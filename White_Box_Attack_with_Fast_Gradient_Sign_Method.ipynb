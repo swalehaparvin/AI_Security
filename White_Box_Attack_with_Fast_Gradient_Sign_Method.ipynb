{
  "nbformat": 4,
  "nbformat_minor": 0,
  "metadata": {
    "colab": {
      "provenance": [],
      "gpuType": "T4",
      "include_colab_link": true
    },
    "kernelspec": {
      "name": "python3",
      "display_name": "Python 3"
    },
    "language_info": {
      "name": "python"
    },
    "accelerator": "GPU"
  },
  "cells": [
    {
      "cell_type": "markdown",
      "metadata": {
        "id": "view-in-github",
        "colab_type": "text"
      },
      "source": [
        "<a href=\"https://colab.research.google.com/github/swalehaparvin/ML_for_CyberSecurity/blob/main/White_Box_Attack_with_Fast_Gradient_Sign_Method.ipynb\" target=\"_parent\"><img src=\"https://colab.research.google.com/assets/colab-badge.svg\" alt=\"Open In Colab\"/></a>"
      ]
    },
    {
      "cell_type": "markdown",
      "source": [
        "# White-Box Attack with Fast Gradient Sign Method (FGSM)\n",
        "\n",
        "## Objective:\n",
        "Through this tutorial, we aim to provide insights into the vulnerability of deep learning models to adversarial attacks and demonstrate the practical implementation of the Fast Gradient Sign Method (FGSM) technique.\n",
        "\n",
        "Adversarial attacks involve intentionally manipulating input data to mislead machine learning models. FGSM is a white-box attack, meaning it assumes complete knowledge of the model architecture and parameters. A deep dive into FGSM could be found here.\n",
        "\n",
        "This demonstration utilizes a Convolutional Neural Network (CNN) tr on the CIFAR-10 dataset. We randomly select an image, generate an adversarial example using FGSM, and visualize the original and manipulated images along with their predicted labels."
      ],
      "metadata": {
        "id": "8WYzHc48_8kv"
      }
    },
    {
      "cell_type": "markdown",
      "source": [
        "## Import Libraries\n",
        "Import necessary libraries for the tutorial, including PyTorch, torchvision, matplotlib, and numpy."
      ],
      "metadata": {
        "id": "BmQEoUqsAEef"
      }
    },
    {
      "cell_type": "code",
      "source": [
        "import torch\n",
        "import torchvision\n",
        "import matplotlib.pyplot as plt\n",
        "import numpy as np\n",
        "import torch.nn as nn\n",
        "import torch.optim as optim\n",
        "from torchvision import transforms\n",
        "from torch.utils.data import DataLoader"
      ],
      "metadata": {
        "id": "jyyTNi6GAL90"
      },
      "execution_count": null,
      "outputs": []
    },
    {
      "cell_type": "markdown",
      "source": [
        "## Define Model\n",
        "Define a simple convolutional neural network (CNN) architecture for image classification with PyTorch."
      ],
      "metadata": {
        "id": "XjlZrrCoARjo"
      }
    },
    {
      "cell_type": "code",
      "source": [
        "class SimpleCNN(nn.Module):\n",
        "    def __init__(self):\n",
        "        super(SimpleCNN, self).__init__()\n",
        "        self.conv1 = nn.Conv2d(3, 32, kernel_size=3, stride=1, padding=1)\n",
        "        self.pool = nn.MaxPool2d(kernel_size=2, stride=2)\n",
        "        self.conv2 = nn.Conv2d(32, 64, kernel_size=3, stride=1, padding=1)\n",
        "        self.fc1 = nn.Linear(64 * 8 * 8, 128)\n",
        "        self.fc2 = nn.Linear(128, 10)\n",
        "\n",
        "    def forward(self, x):\n",
        "        x = self.pool(torch.relu(self.conv1(x)))\n",
        "        x = self.pool(torch.relu(self.conv2(x)))\n",
        "        x = x.view(-1, 64 * 8 * 8)\n",
        "        x = torch.relu(self.fc1(x))\n",
        "        x = self.fc2(x)\n",
        "        return x"
      ],
      "metadata": {
        "id": "CuilbWTaAVPl"
      },
      "execution_count": null,
      "outputs": []
    },
    {
      "cell_type": "markdown",
      "source": [
        "## Load Dataset\n",
        "Load the CIFAR-10 dataset and set up a data loader with image normalization and transformation."
      ],
      "metadata": {
        "id": "42_qjbiSAxcR"
      }
    },
    {
      "cell_type": "code",
      "source": [
        "transform = transforms.Compose([transforms.ToTensor(), transforms.Normalize((0.5, 0.5, 0.5), (0.5, 0.5, 0.5))])\n",
        "train_dataset = torchvision.datasets.CIFAR10(root='./data', train=True, download=True, transform=transform)\n",
        "val_dataset = torchvision.datasets.CIFAR10(root='./data', train=False, download=True, transform=transform)\n",
        "test_dataset = torchvision.datasets.CIFAR10(root='./data', train=False, download=True, transform=transform)\n",
        "\n",
        "train_loader = DataLoader(train_dataset, batch_size=64, shuffle=True)\n",
        "val_loader = DataLoader(val_dataset, batch_size=64, shuffle=False)\n",
        "test_loader = torch.utils.data.DataLoader(test_dataset, batch_size=1, shuffle=True)"
      ],
      "metadata": {
        "colab": {
          "base_uri": "https://localhost:8080/"
        },
        "id": "x5oMXjkUAwe0",
        "outputId": "3e9441b6-5dc9-4d21-d0cc-6aa6c224d54e"
      },
      "execution_count": null,
      "outputs": [
        {
          "output_type": "stream",
          "name": "stdout",
          "text": [
            "Downloading https://www.cs.toronto.edu/~kriz/cifar-10-python.tar.gz to ./data/cifar-10-python.tar.gz\n"
          ]
        },
        {
          "output_type": "stream",
          "name": "stderr",
          "text": [
            "100%|██████████| 170498071/170498071 [00:03<00:00, 43874962.94it/s]\n"
          ]
        },
        {
          "output_type": "stream",
          "name": "stdout",
          "text": [
            "Extracting ./data/cifar-10-python.tar.gz to ./data\n",
            "Files already downloaded and verified\n",
            "Files already downloaded and verified\n"
          ]
        }
      ]
    },
    {
      "cell_type": "markdown",
      "source": [
        "## Initialize the model\n",
        "Initialize the model, move it to GPU (if available), and set it to training mode"
      ],
      "metadata": {
        "id": "8UPFCIlBBYbi"
      }
    },
    {
      "cell_type": "code",
      "source": [
        "# Check if GPU is available and set the device accordingly\n",
        "device = torch.device(\"cuda\" if torch.cuda.is_available() else \"cpu\")\n",
        "\n",
        "model = SimpleCNN().to(device)\n",
        "criterion = nn.CrossEntropyLoss()\n",
        "optimizer = optim.Adam(model.parameters(), lr=0.001)"
      ],
      "metadata": {
        "id": "EJuIXJpvAYJd"
      },
      "execution_count": null,
      "outputs": []
    },
    {
      "cell_type": "markdown",
      "source": [
        "## Train the model\n",
        "Train the model for a specified number of epochs, print training and validation statistics, and save the trained model."
      ],
      "metadata": {
        "id": "VyeUN81AB2qB"
      }
    },
    {
      "cell_type": "code",
      "source": [
        "num_epochs = 5\n",
        "for epoch in range(num_epochs):\n",
        "    model.train()  # Set the model to training mode\n",
        "    running_loss = 0.0\n",
        "    correct_train = 0\n",
        "    total_train = 0\n",
        "\n",
        "    for images, labels in train_loader:\n",
        "        images, labels = images.to(device), labels.to(device)  # Move data to GPU\n",
        "        optimizer.zero_grad()\n",
        "        outputs = model(images)\n",
        "        loss = criterion(outputs, labels)\n",
        "        loss.backward()\n",
        "        optimizer.step()\n",
        "\n",
        "        running_loss += loss.item()\n",
        "        _, predicted = torch.max(outputs.data, 1)\n",
        "        total_train += labels.size(0)\n",
        "        correct_train += (predicted == labels).sum().item()\n",
        "\n",
        "    epoch_loss = running_loss / len(train_loader)\n",
        "    train_accuracy = correct_train / total_train\n",
        "\n",
        "    # Validation loop\n",
        "    model.eval()  # Set the model to evaluation mode\n",
        "    correct_val = 0\n",
        "    total_val = 0\n",
        "\n",
        "    with torch.no_grad():\n",
        "        for images, labels in val_loader:\n",
        "            images, labels = images.to(device), labels.to(device)\n",
        "            outputs = model(images)\n",
        "            _, predicted = torch.max(outputs.data, 1)\n",
        "            total_val += labels.size(0)\n",
        "            correct_val += (predicted == labels).sum().item()\n",
        "\n",
        "    val_accuracy = correct_val / total_val\n",
        "\n",
        "    # Print training and validation statistics\n",
        "    print(f'Epoch {epoch + 1}/{num_epochs}, Loss: {epoch_loss:.4f}, '\n",
        "          f'Train Accuracy: {train_accuracy:.4f}, Val Accuracy: {val_accuracy:.4f}')"
      ],
      "metadata": {
        "colab": {
          "base_uri": "https://localhost:8080/"
        },
        "id": "8E7vYyiPB04R",
        "outputId": "76a454d8-f8cb-4c7b-dd73-3b8d35caad6a"
      },
      "execution_count": null,
      "outputs": [
        {
          "output_type": "stream",
          "name": "stdout",
          "text": [
            "Epoch 1/5, Loss: 1.3535, Train Accuracy: 0.5136, Val Accuracy: 0.5984\n",
            "Epoch 2/5, Loss: 0.9941, Train Accuracy: 0.6493, Val Accuracy: 0.6545\n",
            "Epoch 3/5, Loss: 0.8373, Train Accuracy: 0.7051, Val Accuracy: 0.6894\n",
            "Epoch 4/5, Loss: 0.7258, Train Accuracy: 0.7440, Val Accuracy: 0.6888\n",
            "Epoch 5/5, Loss: 0.6347, Train Accuracy: 0.7780, Val Accuracy: 0.7040\n"
          ]
        }
      ]
    },
    {
      "cell_type": "markdown",
      "source": [
        "## Save Trained Model\n",
        "Save the trained model parameters to a file for later use."
      ],
      "metadata": {
        "id": "Fu_9DPY7CLtb"
      }
    },
    {
      "cell_type": "code",
      "source": [
        "torch.save(model.state_dict(), 'cifar10_model.pth')"
      ],
      "metadata": {
        "id": "3h60shXzCCrO"
      },
      "execution_count": null,
      "outputs": []
    },
    {
      "cell_type": "markdown",
      "source": [
        "## Load Pre-trained Model\n",
        "Load a pre-trained CNN model for image classification on CIFAR-10 using PyTorch."
      ],
      "metadata": {
        "id": "B4dR3pZVFiVN"
      }
    },
    {
      "cell_type": "code",
      "source": [
        "model = SimpleCNN()\n",
        "model.load_state_dict(torch.load('cifar10_model.pth'))\n",
        "model.eval()"
      ],
      "metadata": {
        "colab": {
          "base_uri": "https://localhost:8080/"
        },
        "id": "-qgJvbEVFacX",
        "outputId": "c5ad5e2e-ada5-4b73-b446-dc3d1856c8a0"
      },
      "execution_count": null,
      "outputs": [
        {
          "output_type": "execute_result",
          "data": {
            "text/plain": [
              "SimpleCNN(\n",
              "  (conv1): Conv2d(3, 32, kernel_size=(3, 3), stride=(1, 1), padding=(1, 1))\n",
              "  (pool): MaxPool2d(kernel_size=2, stride=2, padding=0, dilation=1, ceil_mode=False)\n",
              "  (conv2): Conv2d(32, 64, kernel_size=(3, 3), stride=(1, 1), padding=(1, 1))\n",
              "  (fc1): Linear(in_features=4096, out_features=128, bias=True)\n",
              "  (fc2): Linear(in_features=128, out_features=10, bias=True)\n",
              ")"
            ]
          },
          "metadata": {},
          "execution_count": 7
        }
      ]
    },
    {
      "cell_type": "markdown",
      "source": [
        "## Choose Random Test Image\n",
        "Randomly select an image from the CIFAR-10 test dataset and print its original label."
      ],
      "metadata": {
        "id": "h6Q2qKlAFwE5"
      }
    },
    {
      "cell_type": "code",
      "source": [
        "index = np.random.randint(0, len(test_dataset))\n",
        "original_image, original_label = test_dataset[index]\n",
        "print(\"Original Label:\", original_label)"
      ],
      "metadata": {
        "colab": {
          "base_uri": "https://localhost:8080/"
        },
        "id": "qdnXoahYCRtB",
        "outputId": "6301d8d9-acd8-4e9b-c003-35dbd4ba177d"
      },
      "execution_count": null,
      "outputs": [
        {
          "output_type": "stream",
          "name": "stdout",
          "text": [
            "Original Label: 8\n"
          ]
        }
      ]
    },
    {
      "cell_type": "markdown",
      "source": [
        "## Fast Gradient Sign Method (FGSM)\n",
        "Implement the Fast Gradient Sign Method (FGSM) to generate adversarial examples for the selected test image."
      ],
      "metadata": {
        "id": "9ioQZlo6GEZI"
      }
    },
    {
      "cell_type": "code",
      "source": [
        "def generate_adversarial_example(model, image, label, epsilon=0.02):\n",
        "    \"\"\"\n",
        "    Function to generate adversarial examples using Fast Gradient Sign Method (FGSM).\n",
        "\n",
        "    Parameters:\n",
        "    - model: Pre-trained neural network model\n",
        "    - image: Original image tensor\n",
        "    - label: True label of the original image\n",
        "    - epsilon: Perturbation magnitude for FGSM\n",
        "\n",
        "    Returns:\n",
        "    - adversarial_image: Adversarial image tensor\n",
        "    \"\"\"\n",
        "    image.requires_grad = True\n",
        "    output = model(image)\n",
        "    loss = nn.CrossEntropyLoss()(output, torch.tensor([label]))\n",
        "\n",
        "    model.zero_grad()\n",
        "    loss.backward()\n",
        "\n",
        "    perturbation = epsilon * torch.sign(image.grad)\n",
        "    adversarial_image = image + perturbation\n",
        "    return adversarial_image.detach()"
      ],
      "metadata": {
        "id": "KYdlrMxnGCym"
      },
      "execution_count": null,
      "outputs": []
    },
    {
      "cell_type": "markdown",
      "source": [
        "## Generate Adversarial Examples\n",
        "Use the previously defined functions to generate an adversarial image and print the predicted labels."
      ],
      "metadata": {
        "id": "LZq6EullGXQd"
      }
    },
    {
      "cell_type": "code",
      "source": [
        "original_image = original_image.unsqueeze(0)\n",
        "adversarial_image = generate_adversarial_example(model, original_image, original_label)\n",
        "original_prediction = torch.argmax(model(original_image))\n",
        "adversarial_prediction = torch.argmax(model(adversarial_image))"
      ],
      "metadata": {
        "id": "iY5Zvk9VF0QL"
      },
      "execution_count": null,
      "outputs": []
    },
    {
      "cell_type": "markdown",
      "source": [
        "## Plot Original and Adversarial Images\n",
        "Defining the function to visualize the original and adversarial images"
      ],
      "metadata": {
        "id": "a48Ft0f_GmiZ"
      }
    },
    {
      "cell_type": "code",
      "source": [
        "def plot_images(original, adversarial, original_label, adversarial_label):\n",
        "    \"\"\"\n",
        "    Function to plot the original and adversarial images side by side.\n",
        "\n",
        "    Parameters:\n",
        "    - original: Original image tensor\n",
        "    - adversarial: Adversarial image tensor\n",
        "    - original_label: Original image label\n",
        "    - adversarial_label: Adversarial image label\n",
        "    \"\"\"\n",
        "    plt.figure(figsize=(2, 2))\n",
        "    plt.subplot(1, 2, 1)\n",
        "    plt.imshow(np.transpose(original, (1, 2, 0)))\n",
        "    plt.title(f'Original\\nLabel: {original_label.item()}')\n",
        "\n",
        "    plt.subplot(1, 2, 2)\n",
        "    plt.imshow(np.transpose(adversarial, (1, 2, 0)))\n",
        "    plt.title(f'Adversarial\\nLabel: {adversarial_label.item()}')\n",
        "\n",
        "    plt.show()"
      ],
      "metadata": {
        "id": "jkEw99lJGhQQ"
      },
      "execution_count": null,
      "outputs": []
    },
    {
      "cell_type": "markdown",
      "source": [
        "Visualize the original and adversarial images along with their predicted labels for comparison."
      ],
      "metadata": {
        "id": "DuD6zFXTGw9x"
      }
    },
    {
      "cell_type": "code",
      "source": [
        "plot_images(original_image.squeeze().detach().numpy(), adversarial_image.squeeze().detach().numpy(), original_prediction, adversarial_prediction)"
      ],
      "metadata": {
        "colab": {
          "base_uri": "https://localhost:8080/",
          "height": 209
        },
        "id": "3QiJFhiJGwB_",
        "outputId": "f07a1bde-a860-4bef-bf50-b992e0dd1308"
      },
      "execution_count": null,
      "outputs": [
        {
          "output_type": "stream",
          "name": "stderr",
          "text": [
            "WARNING:matplotlib.image:Clipping input data to the valid range for imshow with RGB data ([0..1] for floats or [0..255] for integers).\n",
            "WARNING:matplotlib.image:Clipping input data to the valid range for imshow with RGB data ([0..1] for floats or [0..255] for integers).\n"
          ]
        },
        {
          "output_type": "display_data",
          "data": {
            "text/plain": [
              "<Figure size 200x200 with 2 Axes>"
            ],
            "image/png": "[encoded data removed]"
          },
          "metadata": {}
        }
      ]
    },
    {
      "cell_type": "markdown",
      "source": [
        "## Conclusion\n",
        "Upon visualizing the original and adversarial images, it becomes evident that the FGSM perturbation is sufficient to mislead the model. The misclassification of the adversarial image, despite its visual similarity to the original, underscores the sensitivity of the model to imperceptible changes in the input.\n",
        "\n",
        "Hence, adversarial attacks, such as the white-box attack demonstrated with the Fast Gradient Sign Method (FGSM), highlight the vulnerability of deep neural networks to subtle input manipulations. In this tutorial, we utilized a pre-trained Convolutional Neural Network (CNN) on the CIFAR-10 dataset to showcase the effectiveness of FGSM in crafting adversarial examples."
      ],
      "metadata": {
        "id": "EzTvcb0aIViP"
      }
    },
    {
      "cell_type": "code",
      "source": [],
      "metadata": {
        "id": "jBozoRERIuug"
      },
      "execution_count": null,
      "outputs": []
    }
  ]
}